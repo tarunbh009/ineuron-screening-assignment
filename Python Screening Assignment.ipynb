{
 "cells": [
  {
   "cell_type": "markdown",
   "id": "3f94f782",
   "metadata": {},
   "source": [
    "# Python Screening Assignment"
   ]
  },
  {
   "cell_type": "markdown",
   "id": "d33de7b6",
   "metadata": {},
   "source": [
    "## 1. Create a function in python to read the text file and replace specific content of the file.\n",
    "\n",
    "- File name - example.txt\n",
    "- Origin file content - This is a placement assignment\n",
    "- Replace string - Placement should be replaced by screening.\n",
    "- Replaced file content -This is a screening assignment\n"
   ]
  },
  {
   "cell_type": "code",
   "execution_count": 47,
   "id": "150b6d41",
   "metadata": {},
   "outputs": [],
   "source": [
    "# Creating a example.txt file\n",
    "# With original file content \"This is a placement assignment\"\n",
    "\n",
    "try:\n",
    "    with open('example.txt','w') as f:\n",
    "        f.write(\"This is a placement assignment\")\n",
    "except Exception as e:\n",
    "    print(str(e))   \n",
    "f.close()"
   ]
  },
  {
   "cell_type": "code",
   "execution_count": 48,
   "id": "0065b475",
   "metadata": {},
   "outputs": [
    {
     "name": "stdout",
     "output_type": "stream",
     "text": [
      "This is a screening assignment\n"
     ]
    }
   ],
   "source": [
    "search_string=\"placement\"\n",
    "replace_string=\"screening\"\n",
    "try:\n",
    "    # Read in the file\n",
    "    with open('example.txt','r') as f:\n",
    "        data=f.read()\n",
    "    \n",
    "    # replacing the string\n",
    "    new_string = data.replace(search_string, replace_string)\n",
    "\n",
    "    #Re-writing the file\n",
    "    with open('example.txt','w') as f:\n",
    "        f.write(new_string)\n",
    "    \n",
    "    with open('example.txt','r') as f:\n",
    "        data=f.read()\n",
    "    f.close()   \n",
    "except Exception as e:\n",
    "    print(str(e))    \n",
    "print(data)     "
   ]
  },
  {
   "cell_type": "code",
   "execution_count": null,
   "id": "1d92935a",
   "metadata": {},
   "outputs": [],
   "source": []
  },
  {
   "cell_type": "markdown",
   "id": "7ac78316",
   "metadata": {},
   "source": [
    "## 2. Demonstrate use of abstract class, multiple inheritance and decorator in python using examples."
   ]
  },
  {
   "cell_type": "markdown",
   "id": "dda39ffa",
   "metadata": {},
   "source": [
    "### Decorators\n",
    "A decorator in Python is a function that takes another function as its argument, and returns yet another function . Decorators can be extremely useful as they allow the extension of an existing function, without any modification to the original function source code."
   ]
  },
  {
   "cell_type": "code",
   "execution_count": 80,
   "id": "5bcca086",
   "metadata": {},
   "outputs": [],
   "source": [
    "def main_welcome(x):\n",
    "    def sub_welcome():\n",
    "        print(\"Welcome to youtube\")\n",
    "        x()\n",
    "        print(\"please Subscribe\")\n",
    "    return sub_welcome() "
   ]
  },
  {
   "cell_type": "code",
   "execution_count": 81,
   "id": "973cc3cc",
   "metadata": {},
   "outputs": [],
   "source": [
    "\n",
    "def channel_name():\n",
    "    print(\"This is my channel\")"
   ]
  },
  {
   "cell_type": "code",
   "execution_count": 82,
   "id": "9be7b14a",
   "metadata": {},
   "outputs": [
    {
     "name": "stdout",
     "output_type": "stream",
     "text": [
      "Welcome to youtube\n",
      "This is my channel\n",
      "please Subscribe\n"
     ]
    }
   ],
   "source": [
    "main_welcome(channel_name)"
   ]
  },
  {
   "cell_type": "code",
   "execution_count": null,
   "id": "3ae9f484",
   "metadata": {},
   "outputs": [],
   "source": []
  },
  {
   "cell_type": "markdown",
   "id": "459774e2",
   "metadata": {},
   "source": [
    "### Abstract Class\n",
    "An abstract class can be considered as a blueprint for other classes. It allows you to create a set of methods that must be created within any child classes built from the abstract class. A class which contains one or more abstract methods is called an abstract class."
   ]
  },
  {
   "cell_type": "code",
   "execution_count": 3,
   "id": "7e7ecf01",
   "metadata": {},
   "outputs": [],
   "source": [
    "from abc import ABC, abstractmethod"
   ]
  },
  {
   "cell_type": "code",
   "execution_count": 4,
   "id": "c8ed78ed",
   "metadata": {},
   "outputs": [],
   "source": [
    "class Polygon(ABC):\n",
    "\n",
    "    @abstractmethod   # creating abstract method for other classes\n",
    "    def noofsides(self):\n",
    "        pass\n",
    "\n",
    "class Triangle(Polygon):\n",
    "\n",
    "\n",
    "    def noofsides(self):\n",
    "        print(\"I have 3 sides\")"
   ]
  },
  {
   "cell_type": "code",
   "execution_count": 5,
   "id": "e7fb4d31",
   "metadata": {},
   "outputs": [
    {
     "name": "stdout",
     "output_type": "stream",
     "text": [
      "I have 3 sides\n"
     ]
    }
   ],
   "source": [
    "Triangle().noofsides()"
   ]
  },
  {
   "cell_type": "markdown",
   "id": "b7eacdc6",
   "metadata": {},
   "source": [
    "If i dont write noofsides method in Triangle class then it will give error"
   ]
  },
  {
   "cell_type": "code",
   "execution_count": 7,
   "id": "0659a323",
   "metadata": {},
   "outputs": [],
   "source": [
    "class Polygon(ABC):\n",
    "\n",
    "    @abstractmethod   # creating abstract method for other classes\n",
    "    def noofsides(self):\n",
    "        pass\n",
    "\n",
    "class Triangle(Polygon):\n",
    "    \n",
    "    def shape(self):\n",
    "        print(\"I am a Triangle\")"
   ]
  },
  {
   "cell_type": "code",
   "execution_count": 9,
   "id": "20723c14",
   "metadata": {},
   "outputs": [
    {
     "ename": "TypeError",
     "evalue": "Can't instantiate abstract class Triangle with abstract method noofsides",
     "output_type": "error",
     "traceback": [
      "\u001b[1;31m---------------------------------------------------------------------------\u001b[0m",
      "\u001b[1;31mTypeError\u001b[0m                                 Traceback (most recent call last)",
      "\u001b[1;32m~\\AppData\\Local\\Temp/ipykernel_20292/3467864289.py\u001b[0m in \u001b[0;36m<module>\u001b[1;34m\u001b[0m\n\u001b[1;32m----> 1\u001b[1;33m \u001b[0mTriangle\u001b[0m\u001b[1;33m(\u001b[0m\u001b[1;33m)\u001b[0m\u001b[1;33m.\u001b[0m\u001b[0mshape\u001b[0m\u001b[1;33m(\u001b[0m\u001b[1;33m)\u001b[0m\u001b[1;33m\u001b[0m\u001b[1;33m\u001b[0m\u001b[0m\n\u001b[0m",
      "\u001b[1;31mTypeError\u001b[0m: Can't instantiate abstract class Triangle with abstract method noofsides"
     ]
    }
   ],
   "source": [
    "Triangle().shape()"
   ]
  },
  {
   "cell_type": "code",
   "execution_count": null,
   "id": "beb74237",
   "metadata": {},
   "outputs": [],
   "source": []
  },
  {
   "cell_type": "markdown",
   "id": "d9072bba",
   "metadata": {},
   "source": [
    "### Inheritence\n",
    "Inheritance is the capability of one class to derive or inherit the properties from another class. The benefits of inheritance are: \n",
    " \n",
    "\n",
    "It represents real-world relationships well.\n",
    "It provides reusability of a code. We don’t have to write the same code again and again. Also, it allows us to add more features to a class without modifying it."
   ]
  },
  {
   "cell_type": "code",
   "execution_count": 29,
   "id": "5ae92daf",
   "metadata": {},
   "outputs": [],
   "source": [
    "## creating base class or super class or parent class\n",
    "class car():\n",
    "    def __init__(self,windows,doors,enginetype):\n",
    "        self.windows=windows\n",
    "        self.doors=doors\n",
    "        self.enginetype=enginetype\n",
    "    def drive(self):\n",
    "        print(\"The person drives the car\")"
   ]
  },
  {
   "cell_type": "code",
   "execution_count": 30,
   "id": "37028613",
   "metadata": {},
   "outputs": [],
   "source": [
    "maruti=car(4,5,\"diesel\")"
   ]
  },
  {
   "cell_type": "code",
   "execution_count": 31,
   "id": "9a7882f3",
   "metadata": {},
   "outputs": [
    {
     "data": {
      "text/plain": [
       "4"
      ]
     },
     "execution_count": 31,
     "metadata": {},
     "output_type": "execute_result"
    }
   ],
   "source": [
    "maruti.windows"
   ]
  },
  {
   "cell_type": "code",
   "execution_count": 32,
   "id": "02b30266",
   "metadata": {},
   "outputs": [
    {
     "name": "stdout",
     "output_type": "stream",
     "text": [
      "The person drives the car\n"
     ]
    }
   ],
   "source": [
    "maruti.drive()"
   ]
  },
  {
   "cell_type": "code",
   "execution_count": 33,
   "id": "ebfc1ba6",
   "metadata": {},
   "outputs": [],
   "source": [
    "## creating subclass or inherited class or child class\n",
    "class audi(car):\n",
    "    def __init__(self,windows,doors,enginetype,enableai):\n",
    "        super().__init__(windows,doors,enginetype)\n",
    "        self.enableai=enableai\n",
    "    def selfdirving(self):\n",
    "        print(\"Audi supports self driving\")"
   ]
  },
  {
   "cell_type": "code",
   "execution_count": 34,
   "id": "8e118497",
   "metadata": {},
   "outputs": [],
   "source": [
    "AudiQ7=audi(5,5,\"diesel\",True)"
   ]
  },
  {
   "cell_type": "code",
   "execution_count": 35,
   "id": "0a2c5dbc",
   "metadata": {},
   "outputs": [
    {
     "name": "stdout",
     "output_type": "stream",
     "text": [
      "The person drives the car\n"
     ]
    }
   ],
   "source": [
    "## here AudiQ7 is getting its drive functionality from it parent class car\n",
    "AudiQ7.drive()"
   ]
  },
  {
   "cell_type": "markdown",
   "id": "e125422e",
   "metadata": {},
   "source": [
    "### Multiple Inheritence\n",
    "When a class is derived from more than one base class it is called multiple Inheritance. The derived class inherits all the features of the base case."
   ]
  },
  {
   "cell_type": "raw",
   "id": "fde28a8a",
   "metadata": {},
   "source": [
    "Syntax:\n",
    "\n",
    "Class Base1:\n",
    "       Body of the class\n",
    "\n",
    "Class Base2:\n",
    "     Body of the class\n",
    "\n",
    "Class Derived(Base1, Base2):\n",
    "     Body of the class"
   ]
  },
  {
   "cell_type": "code",
   "execution_count": 36,
   "id": "4f191f57",
   "metadata": {},
   "outputs": [],
   "source": [
    "class A:\n",
    "    def method1(self):\n",
    "        print(\"A class method is called\")"
   ]
  },
  {
   "cell_type": "code",
   "execution_count": 45,
   "id": "49b1a8bc",
   "metadata": {},
   "outputs": [],
   "source": [
    "class B(A):\n",
    "    def method1(self):\n",
    "        print(\"B class method is called\")\n",
    "    def method2(self):\n",
    "        print(\"B class method2 is called\")"
   ]
  },
  {
   "cell_type": "code",
   "execution_count": 46,
   "id": "39df1b90",
   "metadata": {},
   "outputs": [],
   "source": [
    "class C(A):\n",
    "    def method1(self):\n",
    "        print(\"C class method is called\")"
   ]
  },
  {
   "cell_type": "code",
   "execution_count": 47,
   "id": "b9b07ddd",
   "metadata": {},
   "outputs": [],
   "source": [
    "class D(B,C):\n",
    "    def method1(self):\n",
    "        print(\"D class method is called\")"
   ]
  },
  {
   "cell_type": "code",
   "execution_count": 48,
   "id": "4ee5dd2e",
   "metadata": {},
   "outputs": [],
   "source": [
    "d=D()"
   ]
  },
  {
   "cell_type": "code",
   "execution_count": 49,
   "id": "ce39f01b",
   "metadata": {},
   "outputs": [
    {
     "name": "stdout",
     "output_type": "stream",
     "text": [
      "B class method2 is called\n"
     ]
    }
   ],
   "source": [
    "d.method2()"
   ]
  },
  {
   "cell_type": "code",
   "execution_count": 50,
   "id": "cf0a77f8",
   "metadata": {},
   "outputs": [
    {
     "name": "stdout",
     "output_type": "stream",
     "text": [
      "B class method is called\n"
     ]
    }
   ],
   "source": [
    "B.method1(d)"
   ]
  },
  {
   "cell_type": "code",
   "execution_count": 51,
   "id": "3fb96378",
   "metadata": {},
   "outputs": [
    {
     "name": "stdout",
     "output_type": "stream",
     "text": [
      "A class method is called\n"
     ]
    }
   ],
   "source": [
    "A.method1(d)"
   ]
  },
  {
   "cell_type": "code",
   "execution_count": null,
   "id": "1cec1c32",
   "metadata": {},
   "outputs": [],
   "source": []
  }
 ],
 "metadata": {
  "kernelspec": {
   "display_name": "Python 3 (ipykernel)",
   "language": "python",
   "name": "python3"
  },
  "language_info": {
   "codemirror_mode": {
    "name": "ipython",
    "version": 3
   },
   "file_extension": ".py",
   "mimetype": "text/x-python",
   "name": "python",
   "nbconvert_exporter": "python",
   "pygments_lexer": "ipython3",
   "version": "3.9.7"
  }
 },
 "nbformat": 4,
 "nbformat_minor": 5
}
